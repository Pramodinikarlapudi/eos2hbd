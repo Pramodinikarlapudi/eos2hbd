{
 "cells": [
  {
   "cell_type": "code",
   "execution_count": 23,
   "id": "8391bca7",
   "metadata": {},
   "outputs": [
    {
     "name": "stderr",
     "output_type": "stream",
     "text": [
      "100%|██████████| 92456/92456 [00:05<00:00, 17187.45it/s]\n"
     ]
    }
   ],
   "source": [
    "from rdkit import Chem\n",
    "from tqdm import tqdm    \n",
    "\n",
    "with open(\"oc8b00718_si_002.txt\", \"r\") as f:\n",
    "    lines = f.readlines()[28:]\n",
    "\n",
    "smiles = []\n",
    "mols = []\n",
    "perms = []\n",
    "for l in tqdm(lines):\n",
    "    l = l.rstrip().split()\n",
    "    smi = l[0]\n",
    "    try:\n",
    "        perm = float(l[-1])\n",
    "    except:\n",
    "        continue\n",
    "    mol = Chem.MolFromSmiles(smi)\n",
    "    if mol is None:\n",
    "        continue\n",
    "    smiles += [smi]\n",
    "    mols += [mol]\n",
    "    perms += [perm]"
   ]
  },
  {
   "cell_type": "code",
   "execution_count": 27,
   "id": "aed1a22f",
   "metadata": {},
   "outputs": [],
   "source": [
    "import numpy as np\n",
    "\n",
    "y = np.array(perms)\n",
    "X = np.zeros((len(y), NBITS), dtype=np.int8)"
   ]
  },
  {
   "cell_type": "code",
   "execution_count": 30,
   "id": "2184b489",
   "metadata": {},
   "outputs": [
    {
     "name": "stderr",
     "output_type": "stream",
     "text": [
      "91372it [00:30, 3038.55it/s]\n"
     ]
    }
   ],
   "source": [
    "from rdkit.Chem import rdMolDescriptors as rd\n",
    "\n",
    "RADIUS = 3\n",
    "NBITS = 2048\n",
    "DTYPE = np.int8\n",
    "\n",
    "\n",
    "def clip_sparse(vect, nbits):\n",
    "    l = [0]*nbits\n",
    "    for i,v in vect.GetNonzeroElements().items():\n",
    "        l[i] = v if v < 127 else 127\n",
    "    return l\n",
    "\n",
    "\n",
    "class Descriptor(object):\n",
    "\n",
    "    def __init__(self):\n",
    "        self.nbits = NBITS\n",
    "        self.radius = RADIUS\n",
    "\n",
    "    def calc(self, mol):\n",
    "        v = rd.GetHashedMorganFingerprint(mol, radius=self.radius, nBits=self.nbits)\n",
    "        return clip_sparse(v, self.nbits)\n",
    "\n",
    "desc = Descriptor()\n",
    "for i, mol in tqdm(enumerate(mols)):\n",
    "    X[i,:] = desc.calc(mol)"
   ]
  },
  {
   "cell_type": "code",
   "execution_count": 33,
   "id": "ac6db8b2",
   "metadata": {},
   "outputs": [],
   "source": [
    "from flaml import AutoML"
   ]
  },
  {
   "cell_type": "code",
   "execution_count": 35,
   "id": "8e94ec4b",
   "metadata": {},
   "outputs": [
    {
     "name": "stderr",
     "output_type": "stream",
     "text": [
      "[flaml.automl: 11-10 12:48:48] {1432} INFO - Evaluation method: holdout\n",
      "[flaml.automl: 11-10 12:48:48] {1478} INFO - Minimizing error metric: 1-r2\n",
      "[flaml.automl: 11-10 12:48:48] {1515} INFO - List of ML learners in AutoML Run: ['lgbm', 'rf', 'catboost', 'xgboost', 'extra_tree']\n",
      "[flaml.automl: 11-10 12:48:48] {1748} INFO - iteration 0, current learner lgbm\n",
      "[flaml.automl: 11-10 12:54:53] {1866} INFO - Estimated sufficient time budget=30037415s. Estimated necessary time budget=64580s.\n",
      "[flaml.automl: 11-10 12:54:53] {1944} INFO -  at 365.5s,\testimator lgbm's best error=0.8400,\tbest estimator lgbm's best error=0.8400\n",
      "[flaml.automl: 11-10 12:54:53] {1748} INFO - iteration 1, current learner lgbm\n",
      "[flaml.automl: 11-10 12:57:55] {1944} INFO -  at 546.9s,\testimator lgbm's best error=0.8400,\tbest estimator lgbm's best error=0.8400\n",
      "[flaml.automl: 11-10 12:57:55] {1748} INFO - iteration 2, current learner lgbm\n",
      "[flaml.automl: 11-10 13:03:32] {1944} INFO -  at 884.4s,\testimator lgbm's best error=0.6969,\tbest estimator lgbm's best error=0.6969\n",
      "[flaml.automl: 11-10 13:03:32] {1748} INFO - iteration 3, current learner lgbm\n",
      "[flaml.automl: 11-10 13:08:57] {1944} INFO -  at 1209.7s,\testimator lgbm's best error=0.5956,\tbest estimator lgbm's best error=0.5956\n",
      "[flaml.automl: 11-10 13:08:57] {1748} INFO - iteration 4, current learner lgbm\n",
      "[flaml.automl: 11-10 13:11:42] {1944} INFO -  at 1374.5s,\testimator lgbm's best error=0.5956,\tbest estimator lgbm's best error=0.5956\n",
      "[flaml.automl: 11-10 13:11:42] {1748} INFO - iteration 5, current learner lgbm\n",
      "[flaml.automl: 11-10 13:14:07] {1944} INFO -  at 1518.9s,\testimator lgbm's best error=0.5956,\tbest estimator lgbm's best error=0.5956\n",
      "[flaml.automl: 11-10 13:14:07] {1748} INFO - iteration 6, current learner lgbm\n",
      "[flaml.automl: 11-10 13:17:15] {1944} INFO -  at 1707.4s,\testimator lgbm's best error=0.5956,\tbest estimator lgbm's best error=0.5956\n",
      "[flaml.automl: 11-10 13:17:15] {1748} INFO - iteration 7, current learner lgbm\n",
      "[flaml.automl: 11-10 13:20:01] {1944} INFO -  at 1873.1s,\testimator lgbm's best error=0.5956,\tbest estimator lgbm's best error=0.5956\n",
      "[flaml.automl: 11-10 13:20:01] {1748} INFO - iteration 8, current learner xgboost\n",
      "[flaml.automl: 11-10 13:20:05] {1944} INFO -  at 1876.7s,\testimator xgboost's best error=2.1584,\tbest estimator lgbm's best error=0.5956\n",
      "[flaml.automl: 11-10 13:20:05] {1748} INFO - iteration 9, current learner xgboost\n",
      "[flaml.automl: 11-10 13:20:08] {1944} INFO -  at 1880.4s,\testimator xgboost's best error=2.1584,\tbest estimator lgbm's best error=0.5956\n",
      "[flaml.automl: 11-10 13:20:08] {1748} INFO - iteration 10, current learner xgboost\n",
      "[flaml.automl: 11-10 13:20:12] {1944} INFO -  at 1884.1s,\testimator xgboost's best error=0.9782,\tbest estimator lgbm's best error=0.5956\n",
      "[flaml.automl: 11-10 13:20:12] {1748} INFO - iteration 11, current learner xgboost\n",
      "[flaml.automl: 11-10 13:20:15] {1944} INFO -  at 1887.4s,\testimator xgboost's best error=0.5985,\tbest estimator lgbm's best error=0.5956\n",
      "[flaml.automl: 11-10 13:20:15] {1748} INFO - iteration 12, current learner xgboost\n",
      "[flaml.automl: 11-10 13:20:21] {1944} INFO -  at 1893.2s,\testimator xgboost's best error=0.5985,\tbest estimator lgbm's best error=0.5956\n",
      "[flaml.automl: 11-10 13:20:21] {1748} INFO - iteration 13, current learner xgboost\n",
      "[flaml.automl: 11-10 13:20:24] {1944} INFO -  at 1896.5s,\testimator xgboost's best error=0.5985,\tbest estimator lgbm's best error=0.5956\n",
      "[flaml.automl: 11-10 13:20:24] {1748} INFO - iteration 14, current learner xgboost\n",
      "[flaml.automl: 11-10 13:20:33] {1944} INFO -  at 1905.5s,\testimator xgboost's best error=0.4888,\tbest estimator xgboost's best error=0.4888\n",
      "[flaml.automl: 11-10 13:20:33] {1748} INFO - iteration 15, current learner xgboost\n",
      "[flaml.automl: 11-10 13:20:50] {1944} INFO -  at 1922.6s,\testimator xgboost's best error=0.4085,\tbest estimator xgboost's best error=0.4085\n",
      "[flaml.automl: 11-10 13:20:50] {1748} INFO - iteration 16, current learner xgboost\n",
      "[flaml.automl: 11-10 13:21:02] {1944} INFO -  at 1933.9s,\testimator xgboost's best error=0.4085,\tbest estimator xgboost's best error=0.4085\n",
      "[flaml.automl: 11-10 13:21:02] {1748} INFO - iteration 17, current learner xgboost\n",
      "[flaml.automl: 11-10 13:21:41] {1944} INFO -  at 1973.7s,\testimator xgboost's best error=0.3533,\tbest estimator xgboost's best error=0.3533\n",
      "[flaml.automl: 11-10 13:21:41] {1748} INFO - iteration 18, current learner xgboost\n",
      "[flaml.automl: 11-10 13:21:59] {1944} INFO -  at 1990.9s,\testimator xgboost's best error=0.3533,\tbest estimator xgboost's best error=0.3533\n",
      "[flaml.automl: 11-10 13:21:59] {1748} INFO - iteration 19, current learner xgboost\n",
      "[flaml.automl: 11-10 13:22:16] {1944} INFO -  at 2008.0s,\testimator xgboost's best error=0.3533,\tbest estimator xgboost's best error=0.3533\n",
      "[flaml.automl: 11-10 13:22:16] {1748} INFO - iteration 20, current learner xgboost\n",
      "[flaml.automl: 11-10 13:23:58] {1944} INFO -  at 2110.1s,\testimator xgboost's best error=0.2873,\tbest estimator xgboost's best error=0.2873\n",
      "[flaml.automl: 11-10 13:23:58] {1748} INFO - iteration 21, current learner xgboost\n",
      "[flaml.automl: 11-10 13:25:00] {1944} INFO -  at 2171.9s,\testimator xgboost's best error=0.2873,\tbest estimator xgboost's best error=0.2873\n",
      "[flaml.automl: 11-10 13:25:00] {1748} INFO - iteration 22, current learner xgboost\n",
      "[flaml.automl: 11-10 13:28:01] {1944} INFO -  at 2352.8s,\testimator xgboost's best error=0.2873,\tbest estimator xgboost's best error=0.2873\n",
      "[flaml.automl: 11-10 13:28:01] {1748} INFO - iteration 23, current learner xgboost\n",
      "[flaml.automl: 11-10 13:28:40] {1944} INFO -  at 2392.2s,\testimator xgboost's best error=0.2873,\tbest estimator xgboost's best error=0.2873\n",
      "[flaml.automl: 11-10 13:28:40] {1748} INFO - iteration 24, current learner xgboost\n",
      "[flaml.automl: 11-10 13:34:43] {1944} INFO -  at 2754.7s,\testimator xgboost's best error=0.2873,\tbest estimator xgboost's best error=0.2873\n",
      "[flaml.automl: 11-10 13:34:43] {1748} INFO - iteration 25, current learner xgboost\n",
      "[flaml.automl: 11-10 13:36:49] {1944} INFO -  at 2881.3s,\testimator xgboost's best error=0.2311,\tbest estimator xgboost's best error=0.2311\n",
      "[flaml.automl: 11-10 13:36:49] {1748} INFO - iteration 26, current learner extra_tree\n",
      "[flaml.automl: 11-10 13:36:52] {1944} INFO -  at 2884.4s,\testimator extra_tree's best error=0.7028,\tbest estimator xgboost's best error=0.2311\n",
      "[flaml.automl: 11-10 13:36:52] {1748} INFO - iteration 27, current learner extra_tree\n",
      "[flaml.automl: 11-10 13:36:58] {1944} INFO -  at 2890.1s,\testimator extra_tree's best error=0.5163,\tbest estimator xgboost's best error=0.2311\n",
      "[flaml.automl: 11-10 13:36:58] {1748} INFO - iteration 28, current learner extra_tree\n",
      "[flaml.automl: 11-10 13:37:02] {1944} INFO -  at 2893.8s,\testimator extra_tree's best error=0.5163,\tbest estimator xgboost's best error=0.2311\n",
      "[flaml.automl: 11-10 13:37:02] {1748} INFO - iteration 29, current learner extra_tree\n",
      "[flaml.automl: 11-10 13:37:11] {1944} INFO -  at 2903.6s,\testimator extra_tree's best error=0.3931,\tbest estimator xgboost's best error=0.2311\n",
      "[flaml.automl: 11-10 13:37:11] {1748} INFO - iteration 30, current learner xgboost\n",
      "[flaml.automl: 11-10 13:37:40] {1944} INFO -  at 2932.6s,\testimator xgboost's best error=0.2311,\tbest estimator xgboost's best error=0.2311\n",
      "[flaml.automl: 11-10 13:37:40] {1748} INFO - iteration 31, current learner extra_tree\n",
      "[flaml.automl: 11-10 13:37:51] {1944} INFO -  at 2943.0s,\testimator extra_tree's best error=0.3153,\tbest estimator xgboost's best error=0.2311\n",
      "[flaml.automl: 11-10 13:37:51] {1748} INFO - iteration 32, current learner extra_tree\n",
      "[flaml.automl: 11-10 13:38:01] {1944} INFO -  at 2952.9s,\testimator extra_tree's best error=0.3153,\tbest estimator xgboost's best error=0.2311\n",
      "[flaml.automl: 11-10 13:38:01] {1748} INFO - iteration 33, current learner extra_tree\n",
      "[flaml.automl: 11-10 13:38:12] {1944} INFO -  at 2964.6s,\testimator extra_tree's best error=0.2884,\tbest estimator xgboost's best error=0.2311\n",
      "[flaml.automl: 11-10 13:38:12] {1748} INFO - iteration 34, current learner extra_tree\n",
      "[flaml.automl: 11-10 13:38:24] {1944} INFO -  at 2975.9s,\testimator extra_tree's best error=0.2884,\tbest estimator xgboost's best error=0.2311\n",
      "[flaml.automl: 11-10 13:38:24] {1748} INFO - iteration 35, current learner extra_tree\n"
     ]
    },
    {
     "name": "stderr",
     "output_type": "stream",
     "text": [
      "[flaml.automl: 11-10 13:38:37] {1944} INFO -  at 2989.0s,\testimator extra_tree's best error=0.2766,\tbest estimator xgboost's best error=0.2311\n",
      "[flaml.automl: 11-10 13:38:37] {1748} INFO - iteration 36, current learner extra_tree\n",
      "[flaml.automl: 11-10 13:38:50] {1944} INFO -  at 3001.8s,\testimator extra_tree's best error=0.2766,\tbest estimator xgboost's best error=0.2311\n",
      "[flaml.automl: 11-10 13:38:50] {1748} INFO - iteration 37, current learner extra_tree\n",
      "[flaml.automl: 11-10 13:39:05] {1944} INFO -  at 3017.0s,\testimator extra_tree's best error=0.2766,\tbest estimator xgboost's best error=0.2311\n",
      "[flaml.automl: 11-10 13:39:05] {1748} INFO - iteration 38, current learner xgboost\n",
      "[flaml.automl: 11-10 13:48:30] {1944} INFO -  at 3582.2s,\testimator xgboost's best error=0.1840,\tbest estimator xgboost's best error=0.1840\n",
      "[flaml.automl: 11-10 13:48:30] {1748} INFO - iteration 39, current learner rf\n",
      "[flaml.automl: 11-10 13:48:32] {1944} INFO -  at 3584.2s,\testimator rf's best error=0.7214,\tbest estimator xgboost's best error=0.1840\n",
      "[flaml.automl: 11-10 13:48:32] {1748} INFO - iteration 40, current learner rf\n",
      "[flaml.automl: 11-10 13:48:33] {1944} INFO -  at 3585.5s,\testimator rf's best error=0.5217,\tbest estimator xgboost's best error=0.1840\n",
      "[flaml.automl: 11-10 13:48:33] {1748} INFO - iteration 41, current learner rf\n",
      "[flaml.automl: 11-10 13:48:34] {1944} INFO -  at 3586.5s,\testimator rf's best error=0.5217,\tbest estimator xgboost's best error=0.1840\n",
      "[flaml.automl: 11-10 13:48:34] {1748} INFO - iteration 42, current learner rf\n",
      "[flaml.automl: 11-10 13:48:36] {1944} INFO -  at 3588.0s,\testimator rf's best error=0.4666,\tbest estimator xgboost's best error=0.1840\n",
      "[flaml.automl: 11-10 13:48:36] {1748} INFO - iteration 43, current learner rf\n",
      "[flaml.automl: 11-10 13:48:38] {1944} INFO -  at 3589.8s,\testimator rf's best error=0.4562,\tbest estimator xgboost's best error=0.1840\n",
      "[flaml.automl: 11-10 13:48:38] {1748} INFO - iteration 44, current learner rf\n",
      "[flaml.automl: 11-10 13:48:39] {1944} INFO -  at 3591.4s,\testimator rf's best error=0.4515,\tbest estimator xgboost's best error=0.1840\n",
      "[flaml.automl: 11-10 13:48:39] {1748} INFO - iteration 45, current learner rf\n",
      "[flaml.automl: 11-10 13:48:41] {1944} INFO -  at 3593.1s,\testimator rf's best error=0.4515,\tbest estimator xgboost's best error=0.1840\n",
      "[flaml.automl: 11-10 13:48:41] {1748} INFO - iteration 46, current learner rf\n",
      "[flaml.automl: 11-10 13:48:42] {1944} INFO -  at 3594.5s,\testimator rf's best error=0.4515,\tbest estimator xgboost's best error=0.1840\n",
      "[flaml.automl: 11-10 13:48:42] {1748} INFO - iteration 47, current learner rf\n",
      "[flaml.automl: 11-10 13:48:44] {1944} INFO -  at 3596.1s,\testimator rf's best error=0.4515,\tbest estimator xgboost's best error=0.1840\n",
      "[flaml.automl: 11-10 13:48:44] {1748} INFO - iteration 48, current learner rf\n",
      "[flaml.automl: 11-10 13:48:46] {1944} INFO -  at 3598.2s,\testimator rf's best error=0.4515,\tbest estimator xgboost's best error=0.1840\n",
      "[flaml.automl: 11-10 13:48:46] {1748} INFO - iteration 49, current learner rf\n",
      "[flaml.automl: 11-10 13:48:59] {1944} INFO -  at 3610.9s,\testimator rf's best error=0.4174,\tbest estimator xgboost's best error=0.1840\n",
      "[flaml.automl: 11-10 13:48:59] {2043} INFO - selected model: <xgboost.core.Booster object at 0x7fd74aefaef0>\n",
      "[flaml.automl: 11-10 13:58:03] {2106} INFO - retrain xgboost for 544.2s\n",
      "[flaml.automl: 11-10 13:58:03] {2110} INFO - retrained model: <xgboost.core.Booster object at 0x7fd74aefccf8>\n",
      "[flaml.automl: 11-10 13:58:03] {1539} INFO - fit succeeded\n",
      "[flaml.automl: 11-10 13:58:03] {1541} INFO - Time taken to find the best model: 3582.1716406345367\n",
      "[flaml.automl: 11-10 13:58:03] {1555} WARNING - Time taken to find the best model is 100% of the provided time budget and not all estimators' hyperparameter search converged. Consider increasing the time budget.\n"
     ]
    }
   ],
   "source": [
    "mdl = AutoML()\n",
    "\n",
    "time_budget = 60\n",
    "\n",
    "automl_settings = {\n",
    "    \"time_budget\": int(time_budget) * 60,  #  in seconds\n",
    "    \"metric\": \"auto\",\n",
    "    \"task\": \"regression\",\n",
    "    \"log_file_name\": \"automl.log\",\n",
    "    \"verbose\": 1,\n",
    "}\n",
    "\n",
    "mdl.fit(X, y, **automl_settings)"
   ]
  },
  {
   "cell_type": "code",
   "execution_count": 36,
   "id": "dde33448",
   "metadata": {},
   "outputs": [
    {
     "data": {
      "text/plain": [
       "['../checkpoints/flaml.joblib']"
      ]
     },
     "execution_count": 36,
     "metadata": {},
     "output_type": "execute_result"
    }
   ],
   "source": [
    "joblib.dump(mdl, \"../checkpoints/flaml.joblib\")"
   ]
  },
  {
   "cell_type": "code",
   "execution_count": 40,
   "id": "4648beac",
   "metadata": {},
   "outputs": [],
   "source": [
    "ypred = mdl.predict(X[:100])"
   ]
  },
  {
   "cell_type": "code",
   "execution_count": 42,
   "id": "f9f8d455",
   "metadata": {},
   "outputs": [
    {
     "data": {
      "text/plain": [
       "<matplotlib.collections.PathCollection at 0x7fd763a6e978>"
      ]
     },
     "execution_count": 42,
     "metadata": {},
     "output_type": "execute_result"
    },
    {
     "data": {
      "image/png": "[encoded data removed]",
      "text/plain": [
       "<Figure size 432x288 with 1 Axes>"
      ]
     },
     "metadata": {
      "needs_background": "light"
     },
     "output_type": "display_data"
    }
   ],
   "source": [
    "%matplotlib inline\n",
    "import matplotlib.pyplot as plt\n",
    "\n",
    "plt.scatter(y[:100], ypred)"
   ]
  },
  {
   "cell_type": "code",
   "execution_count": null,
   "id": "06e039aa",
   "metadata": {},
   "outputs": [],
   "source": []
  }
 ],
 "metadata": {
  "kernelspec": {
   "display_name": "Python 3",
   "language": "python",
   "name": "python3"
  },
  "language_info": {
   "codemirror_mode": {
    "name": "ipython",
    "version": 3
   },
   "file_extension": ".py",
   "mimetype": "text/x-python",
   "name": "python",
   "nbconvert_exporter": "python",
   "pygments_lexer": "ipython3",
   "version": "3.6.13"
  }
 },
 "nbformat": 4,
 "nbformat_minor": 5
}
